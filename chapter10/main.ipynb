{
 "cells": [
  {
   "cell_type": "code",
   "execution_count": 2,
   "id": "86023468",
   "metadata": {},
   "outputs": [],
   "source": [
    "# オプジェクト指向プログラミングらしいコードを記述するための技術として\n",
    "# カプセル化、継承、ポリモーフィズムがある。\n",
    "# なぜ必要なのかの背景を知ることを重要視する。"
   ]
  },
  {
   "cell_type": "code",
   "execution_count": 4,
   "id": "b786255b",
   "metadata": {},
   "outputs": [
    {
     "name": "stdout",
     "output_type": "stream",
     "text": [
      "35\n",
      "0以上を指定\n"
     ]
    }
   ],
   "source": [
    "class Person:\n",
    "    def __init__(self, name: str, age: int) -> None:\n",
    "        self.__name = name\n",
    "        self.__age = age\n",
    "    \n",
    "    def get_name(self) -> str:\n",
    "        return self.__name\n",
    "    \n",
    "    def get_age(self) -> int:\n",
    "        return self.__age\n",
    "\n",
    "    def set_name(self, value: str) -> None:\n",
    "        self.__name = value\n",
    "    \n",
    "    def set_age(self, value: int) -> None:\n",
    "        if (value < 0):\n",
    "            print(\"0以上を指定\")\n",
    "        else:\n",
    "            self.__age = value\n",
    "\n",
    "    def show(self) -> None:\n",
    "        print(f\"I am {self.__name} ans {self.__age}\")\n",
    "\n",
    "if __name__ == \"__main__\":\n",
    "    p = Person(\"鈴木一郎\", 15)\n",
    "    p.set_age(35)\n",
    "    print(p.get_age())\n",
    "    p.set_age(-10)"
   ]
  },
  {
   "cell_type": "code",
   "execution_count": null,
   "id": "d0d0457f",
   "metadata": {},
   "outputs": [],
   "source": []
  }
 ],
 "metadata": {
  "kernelspec": {
   "display_name": "env",
   "language": "python",
   "name": "python3"
  },
  "language_info": {
   "codemirror_mode": {
    "name": "ipython",
    "version": 3
   },
   "file_extension": ".py",
   "mimetype": "text/x-python",
   "name": "python",
   "nbconvert_exporter": "python",
   "pygments_lexer": "ipython3",
   "version": "3.10.11"
  }
 },
 "nbformat": 4,
 "nbformat_minor": 5
}
