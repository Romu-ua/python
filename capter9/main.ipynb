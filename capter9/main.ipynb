{
 "cells": [
  {
   "cell_type": "code",
   "execution_count": 1,
   "id": "eff242e6",
   "metadata": {},
   "outputs": [],
   "source": [
    "# gpt"
   ]
  },
  {
   "cell_type": "code",
   "execution_count": null,
   "id": "6b0f4396",
   "metadata": {},
   "outputs": [
    {
     "name": "stdout",
     "output_type": "stream",
     "text": [
      "Before the function is called\n",
      "Hello!\n",
      "After the function is called\n"
     ]
    }
   ],
   "source": [
    "# デコレーター\n",
    "# デコレーターとは？：関数やクラスに機能を追加するための構文\n",
    "\n",
    "def decorator(func):\n",
    "    def wrapper():\n",
    "        print(\"Before the function is called\")\n",
    "        func()\n",
    "        print(\"After the function is called\")\n",
    "    return wrapper\n",
    "\n",
    "@decorator\n",
    "def say_hello():\n",
    "    print(\"Hello!\")\n",
    "\n",
    "say_hello()\n",
    "\n",
    "# @decoratorはsay_hello = decorator(say_hello)と同義\n",
    "# wapper関数が元のsay_hellow関すをラップしている。"
   ]
  },
  {
   "cell_type": "code",
   "execution_count": 7,
   "id": "716cb6b3",
   "metadata": {},
   "outputs": [
    {
     "name": "stdout",
     "output_type": "stream",
     "text": [
      "[LOG] Calling add with (3, 5) and {}\n",
      "[LOG] add returned 8\n",
      "8\n"
     ]
    }
   ],
   "source": [
    "def logger(func):\n",
    "    def wrapper(*args, **keywds):\n",
    "        print(f\"[LOG] Calling {func.__name__} with {args} and {keywds}\")\n",
    "        result = func(*args, **keywds)\n",
    "        print(f\"[LOG] {func.__name__} returned {result}\")\n",
    "        return result\n",
    "    return wrapper\n",
    "\n",
    "@logger\n",
    "def add(x, y):\n",
    "    return x + y\n",
    "\n",
    "\n",
    "print(add(3, 5))"
   ]
  },
  {
   "cell_type": "code",
   "execution_count": 8,
   "id": "8bb5bd37",
   "metadata": {},
   "outputs": [
    {
     "name": "stdout",
     "output_type": "stream",
     "text": [
      "[LOG] Before function\n",
      "hello!\n",
      "[LOG] After function\n"
     ]
    }
   ],
   "source": [
    "def log(func):\n",
    "    def wrapper():\n",
    "        print(\"[LOG] Before function\")\n",
    "        func()\n",
    "        print(\"[LOG] After function\")\n",
    "        return \n",
    "    return wrapper\n",
    "\n",
    "@log\n",
    "def greet():\n",
    "    print(\"hello!\")\n",
    "\n",
    "greet()"
   ]
  },
  {
   "cell_type": "code",
   "execution_count": null,
   "id": "3c07c8f4",
   "metadata": {},
   "outputs": [
    {
     "name": "stdout",
     "output_type": "stream",
     "text": [
      "Hi!\n"
     ]
    }
   ],
   "source": [
    "# クロージャ: 関数の外で定義された変数を記憶している関数\n",
    "# 1. 関数の中で関数を定義している\n",
    "# 2. 外側の関数の変数を、内側の関数が使っている\n",
    "# 3. 外側の関数がすでに終了していても、内側の関数がその変数を覚えている\n",
    "\n",
    "def outer():\n",
    "    message = \"Hi!\"\n",
    "\n",
    "    def inner():\n",
    "        print(message)\n",
    "    \n",
    "    return inner\n",
    "\n",
    "f = outer()\n",
    "f()\n",
    "\n",
    "# outerの実行が終わっても、messageは消えない\n",
    "# innerがmessageを覚えているから。\n",
    "# -> 関数がスコープ外の変数を閉じ込めて保持している = これがクロージャ"
   ]
  },
  {
   "cell_type": "code",
   "execution_count": null,
   "id": "af68f18d",
   "metadata": {},
   "outputs": [
    {
     "name": "stdout",
     "output_type": "stream",
     "text": [
      "15\n",
      "25\n"
     ]
    }
   ],
   "source": [
    "def make_adder(x):\n",
    "    def adder(y):\n",
    "        return x + y\n",
    "    return adder\n",
    "\n",
    "add_10 = make_adder(10)\n",
    "add_20 = make_adder(20)\n",
    "\n",
    "print(add_10(5))\n",
    "print(add_20(5))\n",
    "\n",
    "# add_10やadd_20はxを覚えている\n"
   ]
  },
  {
   "cell_type": "code",
   "execution_count": 12,
   "id": "dc833866",
   "metadata": {},
   "outputs": [
    {
     "name": "stdout",
     "output_type": "stream",
     "text": [
      "現在のカウント 1\n",
      "現在のカウント 2\n",
      "現在のカウント 3\n"
     ]
    }
   ],
   "source": [
    "# nonlocalを使ったクロージャ\n",
    "# 普通のクロージャは外の変数を読むことができるけど、書き換えることはできない\n",
    "# この時に使用するのがnonlocal\n",
    "\n",
    "def counter():\n",
    "    count = 0\n",
    "    def increment():\n",
    "        nonlocal count\n",
    "        count += 1\n",
    "        print(f\"現在のカウント {count}\")\n",
    "    return increment\n",
    "\n",
    "c = counter()\n",
    "\n",
    "c()\n",
    "c()\n",
    "c()"
   ]
  },
  {
   "cell_type": "code",
   "execution_count": null,
   "id": "147fddcf",
   "metadata": {},
   "outputs": [],
   "source": []
  },
  {
   "cell_type": "code",
   "execution_count": null,
   "id": "5f475c3c",
   "metadata": {},
   "outputs": [],
   "source": []
  },
  {
   "cell_type": "code",
   "execution_count": null,
   "id": "704d92f0",
   "metadata": {},
   "outputs": [],
   "source": []
  },
  {
   "cell_type": "code",
   "execution_count": null,
   "id": "664f6947",
   "metadata": {},
   "outputs": [],
   "source": []
  },
  {
   "cell_type": "code",
   "execution_count": 2,
   "id": "7b7f1ed9",
   "metadata": {},
   "outputs": [],
   "source": [
    "# book"
   ]
  },
  {
   "cell_type": "code",
   "execution_count": 5,
   "id": "8897a952",
   "metadata": {},
   "outputs": [
    {
     "name": "stdout",
     "output_type": "stream",
     "text": [
      "--------\n",
      "Name: hoge\n",
      "Args: (15, 37, 'ほげ', 'ピヨ')\n",
      "Keywds: {}\n",
      "--------\n",
      "hoge: 15-37/ほげ-ピヨ\n"
     ]
    }
   ],
   "source": [
    "from collections.abc import Callable\n",
    "from typing import Any\n",
    "\n",
    "def log_func(func: Callable[..., Any]) -> Callable[..., Any]:\n",
    "    def inner(*args, **keywds):\n",
    "        print(\"--------\")\n",
    "        print(f\"Name: {func.__name__}\")\n",
    "        print(f\"Args: {args}\")\n",
    "        print(f\"Keywds: {keywds}\")\n",
    "        print(\"--------\")\n",
    "        return (func(*args, **keywds))\n",
    "    return inner\n",
    "\n",
    "def hoge(x: int, y: int, m: str = \"bar\", n: str = \"piyo\") -> None:\n",
    "    print(f\"hoge: {x}-{y}/{m}-{n}\")\n",
    "\n",
    "log_hoge = log_func(hoge)\n",
    "log_hoge(15, 37, \"ほげ\", \"ピヨ\")\n",
    "        "
   ]
  },
  {
   "cell_type": "code",
   "execution_count": null,
   "id": "920ea239",
   "metadata": {},
   "outputs": [
    {
     "name": "stdout",
     "output_type": "stream",
     "text": [
      "a\n",
      "i\n",
      "u\n"
     ]
    }
   ],
   "source": [
    "from collections.abc import Generator\n",
    "\n",
    "def my_gen() -> Generator[str]:\n",
    "    yield \"a\"\n",
    "    yield \"i\"\n",
    "    yield \"u\"\n",
    "\n",
    "for value in my_gen():\n",
    "    print(value)\n",
    "# iterableにしているとかかな？\n"
   ]
  },
  {
   "cell_type": "code",
   "execution_count": 3,
   "id": "2e269cac",
   "metadata": {},
   "outputs": [
    {
     "name": "stdout",
     "output_type": "stream",
     "text": [
      "2\n",
      "3\n",
      "5\n",
      "7\n",
      "11\n",
      "13\n",
      "17\n",
      "19\n",
      "23\n",
      "29\n",
      "31\n",
      "37\n",
      "41\n",
      "43\n",
      "47\n",
      "53\n",
      "59\n",
      "61\n",
      "67\n",
      "71\n",
      "73\n",
      "79\n",
      "83\n",
      "89\n",
      "97\n",
      "101\n"
     ]
    }
   ],
   "source": [
    "import math\n",
    "\n",
    "def get_primes() -> Generator[int]:\n",
    "    num = 2\n",
    "    while True:\n",
    "        if is_prime(num):\n",
    "            yield num\n",
    "        num += 1\n",
    "\n",
    "def is_prime(num: int) -> bool:\n",
    "    result = True\n",
    "    for i in range(2, math.floor(math.sqrt(num)) + 1):\n",
    "        if num % i == 0:\n",
    "            result = False\n",
    "            break\n",
    "    \n",
    "    return result\n",
    "\n",
    "for prime in get_primes():\n",
    "    print(prime)\n",
    "    if prime > 100:\n",
    "        break\n"
   ]
  },
  {
   "cell_type": "code",
   "execution_count": null,
   "id": "026ef737",
   "metadata": {},
   "outputs": [
    {
     "name": "stdout",
     "output_type": "stream",
     "text": [
      "こんにちは  san\n",
      "こんにちは  san\n",
      "こんにちは SA san\n",
      "こんにちは か san\n",
      "こんにちは  san\n"
     ]
    }
   ],
   "source": [
    "def gen_com() -> Generator[str, str]:\n",
    "    while True:\n",
    "        n = yield input(\"name: \")\n",
    "        yield f\"こんにちは {n} san\"\n",
    "\n",
    "gen = gen_com()\n",
    "for name in gen:\n",
    "    res = gen.send(name.upper())\n",
    "    print(res)"
   ]
  },
  {
   "cell_type": "code",
   "execution_count": 2,
   "id": "962bd4f3",
   "metadata": {},
   "outputs": [],
   "source": [
    "import asyncio\n",
    "import requests\n",
    "import time\n",
    "\n",
    "async def get_content(url) -> str:\n",
    "    print(f\"start {url}\")\n",
    "    res =  requests.request(\"get\", url)\n",
    "    print(f\"end {url}\")\n",
    "    return res.text[0]\n",
    "\n",
    "async def main():\n",
    "    return await asyncio.gather(\n",
    "        get_content(\"https://codesine.jp\"),\n",
    "        get_content(\"https://codesine.jp\"),\n",
    "        get_content(\"https://codesine.jp\")\n",
    "    )"
   ]
  },
  {
   "cell_type": "code",
   "execution_count": null,
   "id": "22d2e9cb",
   "metadata": {},
   "outputs": [],
   "source": []
  },
  {
   "cell_type": "code",
   "execution_count": null,
   "id": "0f835cf5",
   "metadata": {},
   "outputs": [],
   "source": []
  },
  {
   "cell_type": "code",
   "execution_count": null,
   "id": "952dbceb",
   "metadata": {},
   "outputs": [],
   "source": []
  },
  {
   "cell_type": "code",
   "execution_count": null,
   "id": "94c46d17",
   "metadata": {},
   "outputs": [],
   "source": []
  },
  {
   "cell_type": "code",
   "execution_count": null,
   "id": "463447e9",
   "metadata": {},
   "outputs": [],
   "source": []
  }
 ],
 "metadata": {
  "kernelspec": {
   "display_name": "env",
   "language": "python",
   "name": "python3"
  },
  "language_info": {
   "codemirror_mode": {
    "name": "ipython",
    "version": 3
   },
   "file_extension": ".py",
   "mimetype": "text/x-python",
   "name": "python",
   "nbconvert_exporter": "python",
   "pygments_lexer": "ipython3",
   "version": "3.10.11"
  }
 },
 "nbformat": 4,
 "nbformat_minor": 5
}
