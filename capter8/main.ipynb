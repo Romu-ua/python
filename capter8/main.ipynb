{
 "cells": [
  {
   "cell_type": "code",
   "execution_count": 2,
   "id": "90469693",
   "metadata": {},
   "outputs": [
    {
     "name": "stdout",
     "output_type": "stream",
     "text": [
      "40.0\n"
     ]
    }
   ],
   "source": [
    "def get_triangle(base, heigth):\n",
    "    area = base * heigth / 2\n",
    "    return area\n",
    "\n",
    "area = get_triangle(8, 10)\n",
    "print(area)\n",
    "\n",
    "def get_diamond(diagonal1, diagonal2):\n",
    "    area = (diagonal1 * diagonal2) / 2\n",
    "    return area\n"
   ]
  },
  {
   "cell_type": "code",
   "execution_count": 6,
   "id": "ee4bac17",
   "metadata": {},
   "outputs": [],
   "source": [
    "def get_triangle(base: float, heigth: float) -> float:\n",
    "    return base * heigth / 2\n",
    "# area = get_triangle(8, \"x\")\n",
    "\n"
   ]
  },
  {
   "cell_type": "code",
   "execution_count": 7,
   "id": "f2f97f4a",
   "metadata": {},
   "outputs": [],
   "source": [
    "from typing import Any\n",
    "\n",
    "data: Any = 1\n",
    "data = \"one\""
   ]
  },
  {
   "cell_type": "code",
   "execution_count": 8,
   "id": "af528eb7",
   "metadata": {},
   "outputs": [],
   "source": [
    "def my_func(value : int, data: list[int] | None) -> list[int]:\n",
    "    if data is None:\n",
    "        data = []\n",
    "    data.append(value)\n",
    "    return data\n",
    "\n"
   ]
  },
  {
   "cell_type": "code",
   "execution_count": 13,
   "id": "0c038b45",
   "metadata": {},
   "outputs": [],
   "source": [
    "def my_func1(arg1: int, *, arg2: int = 0, arg3: int = 0) -> None:\n",
    "    pass\n",
    "my_func1(10, arg2=2, arg3=2)\n",
    "\n",
    "def my_func2(arg1: int, /, arg2: int = 0, arg3: int = 0) -> None:\n",
    "    pass\n",
    "my_func2(1, arg2=1, arg3=2)"
   ]
  },
  {
   "cell_type": "code",
   "execution_count": null,
   "id": "cf93bead",
   "metadata": {},
   "outputs": [
    {
     "name": "stdout",
     "output_type": "stream",
     "text": [
      "5040\n"
     ]
    }
   ],
   "source": [
    "def total_products(*values: int) -> int:\n",
    "    if len(values) == 0:\n",
    "        raise TypeError(\"引数は1個以上指定してください。\")\n",
    "    result = 1\n",
    "    for value in values:\n",
    "        result *= value\n",
    "    return result\n",
    "\n",
    "print(total_products(1, 2, 3, 4, 5, 6, 7))"
   ]
  },
  {
   "cell_type": "code",
   "execution_count": 17,
   "id": "e1f0c0d8",
   "metadata": {},
   "outputs": [
    {
     "name": "stdout",
     "output_type": "stream",
     "text": [
      "24\n"
     ]
    }
   ],
   "source": [
    "def total_products(init: int, *values: int) -> int:\n",
    "    result = init\n",
    "    for value in values:\n",
    "        result *= value\n",
    "    return result\n",
    "print(total_products(1, 1, 2, 3, 4))\n",
    "    "
   ]
  },
  {
   "cell_type": "code",
   "execution_count": 18,
   "id": "09cb813d",
   "metadata": {},
   "outputs": [
    {
     "name": "stdout",
     "output_type": "stream",
     "text": [
      "こんにちは,おはよう,おやすみ⚪️"
     ]
    }
   ],
   "source": [
    "data = [\"こんにちは\", \"おはよう\", \"おやすみ\"]\n",
    "keywd = {\"sep\": \",\",\"end\": \"⚪️\" }\n",
    "print(*data, **keywd)"
   ]
  },
  {
   "cell_type": "code",
   "execution_count": 19,
   "id": "2f0fe16e",
   "metadata": {},
   "outputs": [
    {
     "name": "stdout",
     "output_type": "stream",
     "text": [
      "2.0\n"
     ]
    }
   ],
   "source": [
    "def average(init: int, *args: int) -> float:\n",
    "    result = init\n",
    "    for arg in args:\n",
    "        result += arg\n",
    "    return result / (len(args) + 1)\n",
    "\n",
    "print(average(1, 2, 3))"
   ]
  },
  {
   "cell_type": "code",
   "execution_count": 20,
   "id": "381057ba",
   "metadata": {},
   "outputs": [
    {
     "name": "stdout",
     "output_type": "stream",
     "text": [
      "8\n",
      "1\n"
     ]
    }
   ],
   "source": [
    "def get_max_min(*args: int) -> tuple[float, float]:\n",
    "    return (max(args), min(args))\n",
    "max_v, min_v = get_max_min(1, 2, 3, 4, 5, 6, 7, 8)\n",
    "print(max_v)\n",
    "print(min_v)"
   ]
  },
  {
   "cell_type": "code",
   "execution_count": 25,
   "id": "7090e372",
   "metadata": {},
   "outputs": [
    {
     "name": "stdout",
     "output_type": "stream",
     "text": [
      "5\n",
      "1\n",
      "5\n",
      "1\n"
     ]
    }
   ],
   "source": [
    "from typing import NamedTuple\n",
    "\n",
    "MaxMin = NamedTuple(\"MaxMin\", [(\"max\", float), (\"min\", float)])\n",
    "\n",
    "def get_max_min_2(*args: float) -> MaxMin:\n",
    "    return MaxMin(max(args), min(args))\n",
    "\n",
    "result = get_max_min_2(1, 2, 3, 4, 5)\n",
    "print(result.max)\n",
    "print(result.min)\n",
    "print(result[0])\n",
    "print(result[1])"
   ]
  },
  {
   "cell_type": "code",
   "execution_count": 26,
   "id": "fa0706ec",
   "metadata": {},
   "outputs": [
    {
     "name": "stdout",
     "output_type": "stream",
     "text": [
      "93326215443944152681699238856266700490715968264381621468592963895217599993229915608941463976156518286253697920827223758251185210916864000000000000000000000000\n"
     ]
    }
   ],
   "source": [
    "def factorial(num: int) -> int:\n",
    "    if (num > 1):\n",
    "        return (num * factorial(num-1))\n",
    "    return 1\n",
    "print(factorial(100))"
   ]
  },
  {
   "cell_type": "code",
   "execution_count": 28,
   "id": "9bb3c21a",
   "metadata": {},
   "outputs": [
    {
     "name": "stdout",
     "output_type": "stream",
     "text": [
      "0: 105\n",
      "1: 53\n",
      "2: 27\n",
      "3: 87\n",
      "4: 33\n",
      "0: 105\n",
      "1: 53\n",
      "2: 27\n",
      "3: 87\n",
      "4: 33\n"
     ]
    }
   ],
   "source": [
    "from collections.abc import Callable\n",
    "from typing import Any\n",
    "\n",
    "def walk_list(data: list[Any], func: Callable[[Any, int], None]) -> None:\n",
    "    for key, value in enumerate(data):\n",
    "        func(value, key)\n",
    "\n",
    "def show_item(value: Any, key: int) -> None:\n",
    "    print(f\"{key}: {value}\")\n",
    "\n",
    "data = [105, 53, 27, 87, 33]\n",
    "walk_list(data, show_item)\n",
    "\n",
    "walk_list(data, lambda value, key: print(f\"{key}: {value}\"))"
   ]
  },
  {
   "cell_type": "code",
   "execution_count": 29,
   "id": "f58c5515",
   "metadata": {},
   "outputs": [
    {
     "name": "stdout",
     "output_type": "stream",
     "text": [
      "20\n"
     ]
    }
   ],
   "source": [
    "calcu = lambda num: num * 2\n",
    "print(calcu(10))"
   ]
  },
  {
   "cell_type": "code",
   "execution_count": 30,
   "id": "2ba5c6fe",
   "metadata": {},
   "outputs": [
    {
     "name": "stdout",
     "output_type": "stream",
     "text": [
      "2025-07-20\n"
     ]
    }
   ],
   "source": [
    "from datetime import date\n",
    "\n",
    "now = lambda : date.today()\n",
    "print(now())"
   ]
  },
  {
   "cell_type": "code",
   "execution_count": 31,
   "id": "936375d4",
   "metadata": {},
   "outputs": [
    {
     "name": "stdout",
     "output_type": "stream",
     "text": [
      "合格\n"
     ]
    }
   ],
   "source": [
    "ifPass = lambda score: \"合格\" if score >= 70 else \"不合格\"\n",
    "print(ifPass(80))"
   ]
  },
  {
   "cell_type": "markdown",
   "id": "4fe254ae",
   "metadata": {},
   "source": []
  },
  {
   "cell_type": "code",
   "execution_count": null,
   "id": "6cdafdb1",
   "metadata": {},
   "outputs": [],
   "source": []
  }
 ],
 "metadata": {
  "kernelspec": {
   "display_name": "env",
   "language": "python",
   "name": "python3"
  },
  "language_info": {
   "codemirror_mode": {
    "name": "ipython",
    "version": 3
   },
   "file_extension": ".py",
   "mimetype": "text/x-python",
   "name": "python",
   "nbconvert_exporter": "python",
   "pygments_lexer": "ipython3",
   "version": "3.10.11"
  }
 },
 "nbformat": 4,
 "nbformat_minor": 5
}
